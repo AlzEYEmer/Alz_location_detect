{
 "cells": [
  {
   "cell_type": "code",
   "execution_count": null,
   "metadata": {
    "cellView": "both",
    "colab": {
     "autoexec": {
      "startup": false,
      "wait_interval": 0
     }
    },
    "colab_type": "code",
    "collapsed": false,
    "id": "JLpLa8Jt7Vu4"
   },
   "outputs": [],
   "source": [
    "# These are all the modules we'll be using later. Make sure you can import them\n",
    "# before proceeding further.\n",
    "from __future__ import print_function\n",
    "import numpy as np\n",
    "import tensorflow as tf\n",
    "from six.moves import cPickle as pickle\n",
    "import math"
   ]
  },
  {
   "cell_type": "code",
   "execution_count": null,
   "metadata": {
    "cellView": "both",
    "colab": {
     "autoexec": {
      "startup": false,
      "wait_interval": 0
     },
     "output_extras": [
      {
       "item_id": 1
      }
     ]
    },
    "colab_type": "code",
    "collapsed": false,
    "executionInfo": {
     "elapsed": 19456,
     "status": "ok",
     "timestamp": 1449847956073,
     "user": {
      "color": "",
      "displayName": "",
      "isAnonymous": false,
      "isMe": true,
      "permissionId": "",
      "photoUrl": "",
      "sessionId": "0",
      "userId": ""
     },
     "user_tz": 480
    },
    "id": "y3-cj1bpmuxc",
    "outputId": "0ddb1607-1fc4-4ddb-de28-6c7ab7fb0c33"
   },
   "outputs": [],
   "source": [
    "pickle_file = 'indoor_outdoor_1.pickle'\n",
    "\n",
    "with open(pickle_file, 'rb') as f:\n",
    "  save = pickle.load(f)\n",
    "  train_dataset = save['train_dataset']\n",
    "  train_labels = save['train_labels']\n",
    "  valid_dataset = save['valid_dataset']\n",
    "  valid_labels = save['valid_labels']\n",
    "  test_dataset = save['test_dataset']\n",
    "  test_labels = save['test_labels']\n",
    "  del save  # hint to help gc free up memory\n",
    "  print('Training set', train_dataset.shape, train_labels.shape)\n",
    "  print('Validation set', valid_dataset.shape, valid_labels.shape)\n",
    "  print('Test set', test_dataset.shape, test_labels.shape)\n",
    "\n"
   ]
  },
  {
   "cell_type": "code",
   "execution_count": null,
   "metadata": {
    "collapsed": true
   },
   "outputs": [],
   "source": [
    "batch_size=128\n",
    "hidden_units=[1024]\n",
    "IMAGE_PIXELS=1000\n",
    "NUM_CLASSES=train_labels.shape[1]\n",
    "def accuracy(predictions, labels):\n",
    "    return (100.0 * np.sum(np.argmax(predictions, 1) == np.argmax(labels, 1))\n",
    "          / predictions.shape[0])\n",
    "\n",
    "   \n",
    "\n",
    "graph=tf.Graph()\n",
    "with graph.as_default():\n",
    "    tf_train_dataset=tf.placeholder(tf.float32,shape=(batch_size,IMAGE_PIXELS))\n",
    "    tf_train_labels=tf.placeholder(tf.float32,shape=(batch_size,NUM_CLASSES))\n",
    "    tf_valid_dataset=tf.constant(valid_dataset)\n",
    "    tf_test_dataset=tf.constant(test_dataset)\n",
    "    def inference(images1,images2,images3,hidden_units):\n",
    "        l=0\n",
    "        N=len(hidden_units)\n",
    "        weights=[]\n",
    "        biases=[]\n",
    "        for h in range(N+1):\n",
    "            a=IMAGE_PIXELS if h==0 else hidden_units[h-1]\n",
    "            b=NUM_CLASSES if h==N else hidden_units[h]\n",
    "            weights.append(tf.Variable(\n",
    "                     tf.truncated_normal([a, b],\n",
    "                                    stddev=1.0 / math.sqrt(float(IMAGE_PIXELS))),\n",
    "                name='weights'+str(h)))\n",
    "            biases.append(tf.Variable(tf.zeros([b]),name='biases'+str(h)))\n",
    "            l=l+tf.nn.l2_loss(weights[h])\n",
    "        input_1=images1\n",
    "        input_2=images2\n",
    "        input_3=images3\n",
    "       \n",
    "        for h in range(N):\n",
    "            input_1= tf.nn.relu(tf.matmul(input_1, weights[h]) + biases[h])\n",
    "            input_1=tf.nn.dropout(input_1,0.5)\n",
    "            input_2= tf.nn.relu(tf.matmul(input_2, weights[h]) + biases[h])\n",
    "            input_3= tf.nn.relu(tf.matmul(input_3, weights[h]) + biases[h])\n",
    "        logits1 = tf.matmul(input_1, weights[N]) + biases[N]\n",
    "        logits2 = tf.matmul(input_2, weights[N]) + biases[N]\n",
    "        logits3 = tf.matmul(input_3, weights[N]) + biases[N]\n",
    "        #saver=tf.train.Saver()\n",
    "        return logits1,logits2,logits3,l\n",
    "  \n",
    "   \n",
    "    logits1,logits2,logits3,l=inference(tf_train_dataset,tf_valid_dataset,tf_test_dataset,hidden_units)\n",
    "    loss=tf.reduce_mean(tf.nn.softmax_cross_entropy_with_logits(logits1,tf_train_labels))+0.0001*l\n",
    "    #global_step=tf.Variable(0)\n",
    "    #learning_rate=tf.train.exponential_decay(0.5,global_step,100,0.95)\n",
    "    #optimizer=tf.train.GradientDescentOptimizer(learning_rate).minimize(loss,global_step=global_step)+0.0001*l\n",
    "    optimizer=tf.train.AdagradOptimizer(1.0).minimize(loss)\n",
    "    train_prediction=tf.nn.softmax(logits1)\n",
    "    valid_prediction=tf.nn.softmax(logits2)\n",
    "    test_prediction=tf.nn.softmax(logits3)\n",
    "\n",
    "\n",
    "num_steps=3000\n",
    "with tf.Session(graph=graph) as session:\n",
    "    tf.initialize_all_variables().run()\n",
    "    print (\"Initialized\")\n",
    "    for step in range(num_steps):\n",
    "        offset=(step*batch_size)%(train_labels.shape[0]-batch_size)\n",
    "        batch_data=train_dataset[offset:(offset + batch_size),:]\n",
    "        batch_labels=train_labels[offset:(offset + batch_size)]\n",
    "        feed_dict={tf_train_dataset: batch_data, tf_train_labels: batch_labels}\n",
    "        _, l, predictions = session.run(\n",
    "        [optimizer, loss, train_prediction], feed_dict=feed_dict)\n",
    "   \n",
    "        if (step % 100 == 0):\n",
    "            print(\"Minibatch loss at step %d: %f\" % (step, l))\n",
    "            print(\"Minibatch accuracy: %.1f%%\" % accuracy(predictions, batch_labels))\n",
    "            print(\"Validation accuracy: %.1f%%\" % accuracy(\n",
    "            valid_prediction.eval(), valid_labels))\n",
    "            #saver.save(session,'model.ckpt')\n",
    "    temp=test_prediction.eval()\n",
    "    n=0\n",
    "    for i in range(temp.shape[0]):\n",
    "        \n",
    "         n=int(max(temp[i,:])>0.5)+n\n",
    "    print(n*1.0/temp.shape[0])\n",
    "    print(\"Test accuracy: %.1f%%\" % accuracy(test_prediction.eval(), test_labels))\n",
    "    \n",
    "    #83.3    "
   ]
  }
 ],
 "metadata": {
  "anaconda-cloud": {},
  "colab": {
   "default_view": {},
   "name": "2_fullyconnected.ipynb",
   "provenance": [],
   "version": "0.3.2",
   "views": {}
  },
  "kernelspec": {
   "display_name": "Python 2",
   "language": "python",
   "name": "python2"
  },
  "language_info": {
   "codemirror_mode": {
    "name": "ipython",
    "version": 2
   },
   "file_extension": ".py",
   "mimetype": "text/x-python",
   "name": "python",
   "nbconvert_exporter": "python",
   "pygments_lexer": "ipython2",
   "version": "2.7.3"
  }
 },
 "nbformat": 4,
 "nbformat_minor": 0
}
